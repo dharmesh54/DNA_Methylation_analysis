{
 "cells": [
  {
   "cell_type": "code",
   "execution_count": null,
   "metadata": {},
   "outputs": [],
   "source": [
    "import gzip\n",
    "import pandas as pd\n",
    "\n",
    "# Specify the compressed VCF file path\n",
    "vcf_file = \"C:/Users/dharm/Downloads/Pupil_bio/filtered/PA220KH-lib09-P19-Tumor_S2_L001.sorted_filtered.vcf.gz\"\n",
    "header = None\n",
    "# Load the VCF file, using the '#CHROM' line as the header\n",
    "with gzip.open(vcf_file, 'rt', encoding='utf-8') as file:\n",
    "    for line in file:\n",
    "        if line.startswith(\"#CHROM\"):\n",
    "            print(line)\n",
    "            header = line.strip().lstrip(\"#\").split(\"\\t\")\n",
    "            break\n",
    "\n",
    "# Load the data, skipping all lines starting with '##'\n",
    "df = pd.read_csv(vcf_file, compression='gzip', comment='#', sep='\\t', names=header, encoding='utf-8')\n",
    "\n",
    "# Display the first few rows\n",
    "print(df.head())\n"
   ]
  },
  {
   "cell_type": "code",
   "execution_count": null,
   "metadata": {
    "scrolled": true
   },
   "outputs": [],
   "source": [
    "vcf_file = \"C:/Users/dharm/Downloads/Pupil_bio/filtered/PA221MH-lib09-P19-Norm_S1_L001.sorted_filtered.vcf.gz\"\n",
    "header = None\n",
    "# Load the VCF file, using the '#CHROM' line as the header\n",
    "with gzip.open(vcf_file, 'rt', encoding='utf-8') as file:\n",
    "    for line in file:\n",
    "        if line.startswith(\"#CHROM\"):\n",
    "            print(line)\n",
    "            header = line.strip().lstrip(\"#\").split(\"\\t\")\n",
    "            break\n",
    "\n",
    "# Load the data, skipping all lines starting with '##'\n",
    "df2 = pd.read_csv(vcf_file, compression='gzip', comment='#', sep='\\t', names=header, encoding='utf-8')\n",
    "\n",
    "# Display the first few rows\n",
    "print(df2.head())"
   ]
  },
  {
   "cell_type": "code",
   "execution_count": null,
   "metadata": {},
   "outputs": [],
   "source": [
    "df2"
   ]
  },
  {
   "cell_type": "code",
   "execution_count": null,
   "metadata": {},
   "outputs": [],
   "source": [
    "import pandas as pd\n",
    "\n",
    "# Path to the file\n",
    "file_path = r'C:/Users/dharm/Downloads/Pupil_bio/human_genome/GCA_000001405.29_GRCh38.p14_genomic.fna.ann'\n",
    "\n",
    "# Initialize lists to store data\n",
    "data = []\n",
    "\n",
    "# Open the file and read line by line\n",
    "with open(file_path, 'r') as file:\n",
    "    for line in file:\n",
    "        # Split the line by whitespace\n",
    "        columns = line.split()\n",
    "        \n",
    "        # Handle lines with more than 6 columns by combining description parts\n",
    "        if len(columns) > 6:\n",
    "            # Combine all parts except the first 3 and last 3 into the description\n",
    "            description = \" \".join(columns[2:-3])\n",
    "            # Create a new row with the correct number of columns\n",
    "            row = [columns[0], columns[1], description] + columns[-3:]\n",
    "            data.append(row)\n",
    "        elif len(columns) == 6:\n",
    "            data.append(columns)\n",
    "\n",
    "# Create a DataFrame from the list of data\n",
    "ref = pd.DataFrame(data, columns=[\"Index\", \"Contig\", \"Description\", \"Start\", \"Length\", \"Unknown\"])\n",
    "\n",
    "# Display the first few rows to check\n",
    "print(ref.head())\n"
   ]
  },
  {
   "cell_type": "code",
   "execution_count": null,
   "metadata": {
    "scrolled": true
   },
   "outputs": [],
   "source": [
    "ref"
   ]
  },
  {
   "cell_type": "code",
   "execution_count": null,
   "metadata": {},
   "outputs": [],
   "source": [
    "ref_germline = ref[ref['Description'].str.contains(r'Homo sapiens chromosome [XY]', regex=True)]\n"
   ]
  },
  {
   "cell_type": "code",
   "execution_count": null,
   "metadata": {
    "scrolled": true
   },
   "outputs": [],
   "source": [
    "ref_germline"
   ]
  },
  {
   "cell_type": "code",
   "execution_count": null,
   "metadata": {
    "scrolled": true
   },
   "outputs": [],
   "source": [
    "tumor_chrm_id = set(list(df[\"POS\"]))\n",
    "normal_chrm_id = set(list(df2[\"POS\"]))"
   ]
  },
  {
   "cell_type": "code",
   "execution_count": null,
   "metadata": {},
   "outputs": [],
   "source": [
    "normal_chrm_id"
   ]
  },
  {
   "cell_type": "code",
   "execution_count": null,
   "metadata": {},
   "outputs": [],
   "source": [
    "tumor_only_variant = list(tumor_chrm_id - normal_chrm_id)"
   ]
  },
  {
   "cell_type": "code",
   "execution_count": null,
   "metadata": {},
   "outputs": [],
   "source": [
    "tumor_only_variant"
   ]
  },
  {
   "cell_type": "code",
   "execution_count": null,
   "metadata": {},
   "outputs": [],
   "source": [
    "df_tumor = df[df[\"POS\"].isin(tumor_only_variant)]"
   ]
  },
  {
   "cell_type": "code",
   "execution_count": null,
   "metadata": {},
   "outputs": [],
   "source": [
    "def has_duplicates(lst):\n",
    "    return len(lst) != len(set(lst))"
   ]
  },
  {
   "cell_type": "code",
   "execution_count": null,
   "metadata": {},
   "outputs": [],
   "source": [
    "print(has_duplicates(normal_chrm_id))"
   ]
  },
  {
   "cell_type": "code",
   "execution_count": null,
   "metadata": {},
   "outputs": [],
   "source": [
    "somatic_df =  df_tumor[~df_tumor[\"CHROM\"].isin(list(ref_germline[\"Contig\"]))]"
   ]
  },
  {
   "cell_type": "code",
   "execution_count": null,
   "metadata": {
    "scrolled": true
   },
   "outputs": [],
   "source": [
    "VCF_final = somatic_df[somatic_df['ALT']!=\".\"]"
   ]
  },
  {
   "cell_type": "code",
   "execution_count": null,
   "metadata": {},
   "outputs": [],
   "source": [
    "VCF_final.to_csv(\"Somatic_Variant_Tumor_only.csv\")"
   ]
  },
  {
   "cell_type": "code",
   "execution_count": null,
   "metadata": {},
   "outputs": [],
   "source": [
    "def calculate_mutation_frequency(info):\n",
    "    # Debug: Print the entire INFO field\n",
    "    print(f\"INFO field: {info}\")\n",
    "\n",
    "    # Extract DP4 values from the INFO field\n",
    "    dp4_field = next((field for field in info.split(\";\") if field.startswith(\"DP4=\")), None)\n",
    "    \n",
    "    # Debug: Print the extracted DP4 field\n",
    "    print(f\"Extracted DP4 field: {dp4_field}\")\n",
    "\n",
    "    if dp4_field:\n",
    "        # Extract counts\n",
    "        counts = list(map(int, dp4_field.split(\"=\")[1].split(\",\")))\n",
    "        forward_ref, reverse_ref, forward_alt, reverse_alt = counts\n",
    "\n",
    "        # Debug: Print individual counts\n",
    "        print(f\"Counts: Forward Ref={forward_ref}, Reverse Ref={reverse_ref}, Forward Alt={forward_alt}, Reverse Alt={reverse_alt}\")\n",
    "\n",
    "        # Calculate the alternate allele frequency\n",
    "        alt_allele_freq = (forward_alt + reverse_alt) / sum(counts)\n",
    "\n",
    "        # Debug: Print calculated alternate allele frequency\n",
    "        print(f\"Calculated Alt Allele Frequency: {alt_allele_freq}\")\n",
    "\n",
    "        return alt_allele_freq\n",
    "\n",
    "    # Debug: If DP4 field is missing\n",
    "    print(\"DP4 field is missing or malformed.\")\n",
    "    return None\n"
   ]
  },
  {
   "cell_type": "code",
   "execution_count": null,
   "metadata": {},
   "outputs": [],
   "source": [
    "# Apply the function and observe the debug output\n",
    "df2[\"Mutation_Frequency\"] = df2[\"INFO\"].apply(calculate_mutation_frequency)"
   ]
  },
  {
   "cell_type": "code",
   "execution_count": null,
   "metadata": {},
   "outputs": [],
   "source": [
    "df2.to_csv(\"Normal_mutation_frequency.csv\")"
   ]
  }
 ],
 "metadata": {
  "kernelspec": {
   "display_name": "Python 3 (ipykernel)",
   "language": "python",
   "name": "python3"
  },
  "language_info": {
   "codemirror_mode": {
    "name": "ipython",
    "version": 3
   },
   "file_extension": ".py",
   "mimetype": "text/x-python",
   "name": "python",
   "nbconvert_exporter": "python",
   "pygments_lexer": "ipython3",
   "version": "3.11.3"
  }
 },
 "nbformat": 4,
 "nbformat_minor": 4
}
